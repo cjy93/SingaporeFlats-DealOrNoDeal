{
 "cells": [
  {
   "cell_type": "code",
   "execution_count": 1,
   "metadata": {
    "scrolled": false
   },
   "outputs": [
    {
     "data": {
      "application/vnd.jupyter.widget-view+json": {
       "model_id": "58bdd1fa797b4f06b5f7c7bb7d3e0949",
       "version_major": 2,
       "version_minor": 0
      },
      "text/plain": [
       "interactive(children=(IntSlider(value=900, description='x', max=2489, min=44), Output()), _dom_classes=('widge…"
      ]
     },
     "metadata": {},
     "output_type": "display_data"
    },
    {
     "data": {
      "application/vnd.jupyter.widget-view+json": {
       "model_id": "085d1f1e78e748278541153f6f0922e1",
       "version_major": 2,
       "version_minor": 0
      },
      "text/plain": [
       "RadioButtons(description='HDB Towns', options=('Ang Mo Kio', 'Bedok', 'Bukit Batok', 'Bukit Merah', 'Bukit Pan…"
      ]
     },
     "metadata": {},
     "output_type": "display_data"
    },
    {
     "data": {
      "application/vnd.jupyter.widget-view+json": {
       "model_id": "950444381965431481ce4bededc86e8a",
       "version_major": 2,
       "version_minor": 0
      },
      "text/plain": [
       "HBox(children=(Label(value='List of blks meeting distance and town criteria'), Select(disabled=True, options=(…"
      ]
     },
     "metadata": {},
     "output_type": "display_data"
    },
    {
     "data": {
      "application/vnd.jupyter.widget-view+json": {
       "model_id": "4adf19e084734f609b57c592086e34c4",
       "version_major": 2,
       "version_minor": 0
      },
      "text/plain": [
       "VBox(children=(Figure(axes=[Axis(scale=LinearScale()), Axis(orientation='vertical', scale=LinearScale())], fig…"
      ]
     },
     "metadata": {},
     "output_type": "display_data"
    },
    {
     "data": {
      "application/vnd.jupyter.widget-view+json": {
       "model_id": "e6134833aa1b47d8a10fccaa9c7ac031",
       "version_major": 2,
       "version_minor": 0
      },
      "text/plain": [
       "VBox(children=(Figure(axes=[Axis(scale=LinearScale()), Axis(orientation='vertical', scale=LinearScale())], fig…"
      ]
     },
     "metadata": {},
     "output_type": "display_data"
    },
    {
     "data": {
      "application/vnd.jupyter.widget-view+json": {
       "model_id": "e8616c2e3e9e4e2fbcfd51440b3f2bb7",
       "version_major": 2,
       "version_minor": 0
      },
      "text/plain": [
       "VBox(children=(Figure(axes=[Axis(scale=LinearScale()), Axis(orientation='vertical', scale=LinearScale())], fig…"
      ]
     },
     "metadata": {},
     "output_type": "display_data"
    },
    {
     "data": {
      "application/vnd.jupyter.widget-view+json": {
       "model_id": "52197f275ec644dbbc99c0d8b8aec5ac",
       "version_major": 2,
       "version_minor": 0
      },
      "text/plain": [
       "VBox(children=(Figure(axes=[Axis(scale=LinearScale()), Axis(orientation='vertical', scale=LinearScale())], fig…"
      ]
     },
     "metadata": {},
     "output_type": "display_data"
    },
    {
     "data": {
      "application/vnd.jupyter.widget-view+json": {
       "model_id": "d8c6310db7dc4ffaae1c22a76758e7c7",
       "version_major": 2,
       "version_minor": 0
      },
      "text/plain": [
       "VBox(children=(Figure(axes=[Axis(scale=LinearScale()), Axis(orientation='vertical', scale=LinearScale())], fig…"
      ]
     },
     "metadata": {},
     "output_type": "display_data"
    }
   ],
   "source": [
    "# Interactive Chart for distance from MRT by town\n",
    "%matplotlib notebook\n",
    "# testing rb codes for interactive\n",
    "# https://ipywidgets.readthedocs.io/en/stable/examples/Using%20Interact.html\n",
    "from ipywidgets import interact, interactive, fixed, interact_manual, HBox, Label\n",
    "import ipywidgets as widgets\n",
    "from IPython.display import display\n",
    "import os\n",
    "import bqplot.pyplot as bqp\n",
    "import bqplot\n",
    "import matplotlib.pyplot as plt\n",
    "import numpy as np\n",
    "import os\n",
    "os.getcwd()\n",
    "# TO get a boxplot to see the number of 4-Rooms and number of 5-Room flats available for Nov 2018 Sale of balance flats\n",
    "\n",
    "unitDetails = np.genfromtxt(\"Merged_unitsDetails_DistToMrt.csv\", delimiter=\",\",skip_header=1,\n",
    "                dtype=[('town','U24'),('rmType','U7'),('blk','U6'),('unitNum','U10'),\n",
    "                      ('level','i4'),('sqm','i8'),\n",
    "                      ('sellingPrice','i8'),('color','U12') ,('repurchasedFlat','U30'),('leaseLessThan60Yrs','U10'),\n",
    "                      ('street','U30'),('probableCompletionDate','U10'),('deliveryPossessionDate','U30'),\n",
    "                      ('leaseCommencementDate','U15'),('availableEthnicQuotaMl','U20'),\n",
    "                      ('availableEthnicQuotaCh','U25'),('availableEthnicQuotaIn','U20'),('lastUpdate','U60'),\n",
    "                      ('NearestMrt','U30'),('DistToMrt','f8'),('blkX','i8'),('blkY','i8')],\n",
    "                missing_values=['na','-',''],filling_values=0, comments='!')\n",
    "\n",
    "# Use this file to get town code\n",
    "shortestMrt = np.genfromtxt(\"your_file.csv\", delimiter=\",\"\n",
    "                ,skip_header=1,\n",
    "                dtype=[('townCode','U5'),('mapCode','U5'),('ng','U24'),('blk','U6'),\n",
    "                      ('blkX','f8'),('blkY','f8'),\n",
    "                      ('closestMrtStation','U30'),('distToMrt','f8'),('town','U30')],\n",
    "                   missing_values=['na','-',''],filling_values=0)\n",
    "#print(shortestMrt)\n",
    "# Get selling prices across towns for 4-Room flats    \n",
    "#print(amkPrice)\n",
    "#print(bdPrice)\n",
    "#data = [amkPrice,bdPrice,bbPrice,bmPrice,bpPrice,cckPrice,clPrice,glPrice,hgPrice,jePrice,jwPrice\n",
    "#       ,kwnPrice,prcPrice,pgPrice,qtPrice,sbPrice,skPrice,sgnPrice,tapPrice,tpPrice,wlPrice,ysPrice]\n",
    "labels = np.array(['Ang Mo Kio','Bedok','Bukit Batok','Bukit Merah','Bukit Panjang','Choa Chu Kang',\n",
    "                'Clementi','Geylang','Hougang','Jurong East','Jurong West','Kallang / Whampoa','Pasir Ris','Punggol',\n",
    "                'Queenstown','Sembawang','Sengkang','Serangoon','Tampines','Toa Payoh', 'Woodlands','Yishun'])\n",
    "\n",
    "\n",
    "\n",
    "\n",
    "## Dummy data\n",
    "townNames = ['Ang Mo Kio','Bedok','Bukit Batok','Bukit Merah','Bukit Panjang','Choa Chu Kang',\n",
    "                'Clementi','Geylang','Hougang','Jurong East','Jurong West','Kallang / Whampoa','Pasir Ris','Punggol',\n",
    "                'Queenstown','Sembawang','Sengkang','Serangoon','Tampines','Toa Payoh', 'Woodlands','Yishun']\n",
    "\n",
    "# include the tp2,tp3\n",
    "townNamesIncTp23 = ['Ang Mo Kio','Bedok','Bukit Batok','Bukit Merah','Bukit Panjang','Choa Chu Kang',\n",
    "                'Clementi','Geylang','Hougang','Jurong East','Jurong West','Kallang / Whampoa','Pasir Ris','Punggol',\n",
    "                'Queenstown','Sembawang','Sengkang','Serangoon','Tampines',\n",
    "                'Toa Payoh', 'Toa Payoh (Upper Aljunied)', 'Toa Payoh (Bidadari)', 'Woodlands','Yishun']\n",
    "\n",
    "allMapCodes = ['amk', 'bd', 'bb', 'bm', 'bp', 'cck', 'cl', 'gl', 'hg', 'je', 'jw', \n",
    "           'kwn', 'prc', 'pg', 'qt', 'sb', 'sk', 'sgn', 'tap', 'tp', 'tp2', 'tp3', 'wl', 'ys']\n",
    "\n",
    "\n",
    "dict_TownDisplayName_toMapCode = dict(zip(townNamesIncTp23, allMapCodes))\n",
    "dict_mapCode_to_townDisplayName = dict(zip(allMapCodes, townNamesIncTp23))\n",
    "\n",
    "#print(dict_mapCode_to_townDisplayName)\n",
    "\n",
    "# Making Distance to MRT data\n",
    "# Trying to assimilate the 2nd data set with the first\n",
    "#townCodeInBetw =[]\n",
    "#townMatchCode=[]\n",
    "#for codes in shortestMrt:\n",
    "#    townCodeInBetw.append(codes['mapCode']) \n",
    "#    townMatchCode.append(codes['town'])\n",
    "#    townCodeInBetw1= dict(set(zip(townMatchCode,townCodeInBetw))) # take the unique town Codes to be used for later\n",
    "#print(townCodeInBetw1)\n",
    "\n",
    "# Back to first data type\n",
    "DistToMrt =[]  \n",
    "blkNum =[] \n",
    "mapCodes = [] \n",
    "\n",
    "for unit in unitDetails:\n",
    "    thisTown = unit['town'] # single value\n",
    "    thisBlk = unit['blk']\n",
    "    \n",
    "    \n",
    "    # get mapCode from another dataset\n",
    "    # by equating both town and blk to get the mapCode\n",
    "    \n",
    "    #print('equating town:', thisTown, ', blk: ', thisBlk)\n",
    "    \n",
    "    subsetSameTown = shortestMrt[shortestMrt['town'] == thisTown] #shortestMrt[[True, False,...]]\n",
    "    #print('subsetSameTown ', subsetSameTown)\n",
    "    \n",
    "    subsetSameTownBlk = subsetSameTown[subsetSameTown['blk'] == thisBlk]\n",
    "  \n",
    "    thisMapCode = subsetSameTownBlk[0]['mapCode'].strip() # get the 1st row, \n",
    "                                                  # may have repeated rows, they are the same anyway\n",
    "                                                  # strip to get rid of extra space/linebreak just in case\n",
    "    #print(thisMapCode)\n",
    "    \n",
    "    DistToMrt.append(unit['DistToMrt'])\n",
    "    blkNum.append(thisBlk)\n",
    "    mapCodes.append(thisMapCode)\n",
    "    \n",
    "\n",
    "\n",
    "blkDetails = list(zip(mapCodes, blkNum, DistToMrt))\n",
    "#print(blkDetails)\n",
    "\n",
    "\n",
    "\n",
    "# Radio buttons for towns\n",
    "wRadioTowns = widgets.RadioButtons(\n",
    "#    options=['pepperoni', 'orange', 'anchovies'],\n",
    "#     value='pineapple',\n",
    "    description='HDB Towns',\n",
    "    disabled=False\n",
    ") \n",
    "\n",
    "# given blk data and distance\n",
    "def f(x=900):\n",
    "    #listOfBlkWithDistLessThan = [blkNum for townCode,blkNum,distToMrt in blkDetails if distToMrt <= x]\n",
    "    tmp = [townCode for townCode,blkNum,distToMrt in blkDetails if distToMrt <= x] #find the \"town\"\n",
    "    listOfTownCodeWithDistLessThan = list(set(tmp)) # get unique townCodes using tmp\n",
    "    #print(x)\n",
    "    #print(w.value)\n",
    "    fullTownNameList = [dict_mapCode_to_townDisplayName[x] for x in listOfTownCodeWithDistLessThan]\n",
    "    fullTownNameList.sort() # sort by alphabet order\n",
    "    \n",
    "    wRadioTowns.options = fullTownNameList # this is for the wRadioTowns options arg, lib style\n",
    "    #return listOfBlkWithDistLessThan # will print out\n",
    "    return None  # None is the NULL in python\n",
    "\n",
    "\n",
    "# Set up the slider format\n",
    "minDist = min(DistToMrt)\n",
    "maxDist = max(DistToMrt)\n",
    "stepDist = 1\n",
    "defaultValue = 900\n",
    "#print('minDist:', minDist, ' maxDist: ', maxDist)\n",
    "distSlider = widgets.IntSlider(min=minDist,max=maxDist,step=stepDist, value=defaultValue)\n",
    "slider = interact(f, x=distSlider) # func f is passed inside, 3rd arg gets passed to f\n",
    "\n",
    "# show the map\n",
    "def showTownMap(townFriendlyName):\n",
    "    #print('showTownMap: %s' % townCode)\n",
    "    if not(townFriendlyName is None):\n",
    "        townCode = dict_TownDisplayName_toMapCode[townFriendlyName]\n",
    "        image_path = os.path.abspath('./townmap/townmap/townmap_%s.png' % (townCode,))  #\"./\" is current folder\n",
    "        # s is for the townCode string\n",
    "        #print(image_path)\n",
    "\n",
    "        bqp.close(1) #close old figure\n",
    "        # https://stackoverflow.com/questions/37144008/change-size-of-fig-in-bqplot\n",
    "        fig = bqp.figure(key=1) #open figure 1\n",
    "        fig.layout.width = '1000px'\n",
    "        fig.layout.height = '1000px'\n",
    "        bqp.imshow(image_path, 'filename') #open by filename\n",
    "        bqp.show()\n",
    "\n",
    "\n",
    "# your new function for click\n",
    "def wRadioTowns_onChange(a):  # a is a variable name\n",
    "    townNameSelected = a['owner'].value # value is attribute of 'owner'\n",
    "    #print('townNameSelected', townNameSelected)\n",
    "    if townNameSelected is not None:\n",
    "        townCodeSelected = dict_TownDisplayName_toMapCode[townNameSelected]\n",
    "    else:\n",
    "        townCodeSelected = None\n",
    "    distToMrt = distSlider.value\n",
    "    #print('wRadioTowns_onChange: townCode: %s, distToMrt: %s' % (townCode, distToMrt))\n",
    "    #print('a', a)\n",
    "    listOfBlkSubset = [blkNum for townCode,blkNum,distToMrt in blkDetails if (distToMrt <= distToMrt) and (townCode == townCodeSelected)]\n",
    "    #listOfBlkSubset = [blkNum for townCode, blkNum in listOfBlkSubsetTmp if townCode == townCodeSelected]\n",
    "    #print('listOfBlkSubsetTmp', townCodeSelected, listOfBlkSubsetTmp)\n",
    "    listOfBlkSubsetUnique = list(set(listOfBlkSubset))\n",
    "    listOfBlkSubsetUnique.sort() # sort\n",
    "   \n",
    "    \n",
    "    # if using widgets.Select\n",
    "    #listOfBlkSubsetUnique.append('') # need a selected value, so add dummy, pad 6 space for the init width\n",
    "    wBlkDisplay.options = listOfBlkSubsetUnique\n",
    "    \n",
    "    #print(listOfBlkSubset)\n",
    "    showTownMap(townNameSelected)  #the differnce from another code is this\n",
    "    #pass  # 'continue' means continue in loop. But 'pass'\n",
    "\n",
    "wRadioTowns.observe(wRadioTowns_onChange)\n",
    "display(wRadioTowns)\n",
    "\n",
    "\n",
    "\n",
    "#style = {'description_width': 'initial'}\n",
    "wBlkDisplay = widgets.Select(\n",
    "    options=[''],\n",
    "    value=None,\n",
    "    rows=10,\n",
    "    #description='List of blks meeting distance and town criteria',\n",
    "    description='',\n",
    "    disabled=True,\n",
    "    #style=style\n",
    ")\n",
    "#display(wBlkDisplay)\n",
    "HBox([Label('List of blks meeting distance and town criteria'), wBlkDisplay])"
   ]
  },
  {
   "cell_type": "code",
   "execution_count": null,
   "metadata": {
    "collapsed": true
   },
   "outputs": [],
   "source": []
  }
 ],
 "metadata": {
  "kernelspec": {
   "display_name": "Python 3",
   "language": "python",
   "name": "python3"
  },
  "language_info": {
   "codemirror_mode": {
    "name": "ipython",
    "version": 3
   },
   "file_extension": ".py",
   "mimetype": "text/x-python",
   "name": "python",
   "nbconvert_exporter": "python",
   "pygments_lexer": "ipython3",
   "version": "3.7.0"
  }
 },
 "nbformat": 4,
 "nbformat_minor": 2
}
