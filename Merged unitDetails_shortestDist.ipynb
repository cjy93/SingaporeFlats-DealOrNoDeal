{
 "cells": [
  {
   "cell_type": "code",
   "execution_count": null,
   "metadata": {
    "collapsed": true
   },
   "outputs": [],
   "source": []
  },
  {
   "cell_type": "code",
   "execution_count": 14,
   "metadata": {},
   "outputs": [
    {
     "name": "stdout",
     "output_type": "stream",
     "text": [
      "/Users/ruiboon/datasandbox/hdb_sbf/jyPlot/plot8\n",
      "1221\n"
     ]
    }
   ],
   "source": [
    "import os\n",
    "print(os.getcwd())\n",
    "\n",
    "import numpy as np\n",
    "from math import sqrt\n",
    "shortestMrt = np.genfromtxt(\"your_file.csv\", delimiter=\",\"\n",
    "                ,skip_header=1,\n",
    "                dtype=[('townCode','U5'),('mapCode','U5'),('ng','U24'),('blk','U6'),\n",
    "                      ('blkX','f8'),('blkY','f8'),\n",
    "                      ('closestMrtStation','U30'),('distToMrt','f8'),('town','U30')],\n",
    "                   missing_values=['na','-',''],filling_values=0)\n",
    "\n",
    "#unitDetails2 = np.genfromtxt(\"unitDetails_subset.csv\", delimiter=\",\", dtype=None)\n",
    "#print(unitDetails2)\n",
    "unitDetails = np.genfromtxt(\"unitsDetails.csv\", delimiter=\",\",skip_header=1,\n",
    "                dtype=[('town','U24'),('rmType','U7'),('blk','U6'),('unitNum','U10'),\n",
    "                      ('level','i4'),('sqm','i8'),\n",
    "                      ('sellingPrice','i8'),('color','U12') ,('repurchasedFlat','U30'),('leaseLessThan60Yrs','U10'),\n",
    "                      ('street','U30'),('probableCompletionDate','U10'),('deliveryPossessionDate','U30'),\n",
    "                      ('leaseCommencementDate','U15'),('availableEthnicQuotaMl','U20'),\n",
    "                      ('availableEthnicQuotaCh','U25'),('availableEthnicQuotaIn','U20'),('lastUpdate','U60')],\n",
    "                missing_values=['na','-',''],filling_values=0, comments='!')\n",
    "\n",
    "##\n",
    "# also del Hougang and Yishun 5-Room data. dataset source has some error (they are actually 2 rm)\n",
    "toRemoveTown = ['Hougang', 'Yishun']\n",
    "\n",
    "overallAppend= []\n",
    "for unit in unitDetails:\n",
    "    unitTown = unit['town']\n",
    "    unitBlk = unit['blk']\n",
    "    unitRmType = unit['rmType']\n",
    "    #print('unit',unitTown, unitBlk)\n",
    "    unitOriginal = list(unit) #make into a list rather than tuple\n",
    "    #print(unitOriginal)\n",
    "    for mrt in shortestMrt[shortestMrt['blk'] == unitBlk]:\n",
    "        #print('mrt')\n",
    "        blkMrt =mrt[3]\n",
    "        nearest =mrt[6]\n",
    "        distToMrt =mrt[7]\n",
    "        townMrt =mrt[8]\n",
    "        mrtX = mrt[4]\n",
    "        mrtY =mrt[5]\n",
    "        \n",
    "        \n",
    "        if unitTown==townMrt:\n",
    "            unitOriginal.append(nearest)\n",
    "            unitOriginal.append(distToMrt)\n",
    "            unitOriginal.append(mrtX)\n",
    "            unitOriginal.append(mrtY)\n",
    "            break # break out of the for loop, orginal file 'townmap_xy' has dupe blks\n",
    "\n",
    "    #print(unitOriginal)\n",
    "    \n",
    "    # To concatenate the columns with comma delimiter\n",
    "    if not (unitRmType == '5-Room' and unitTown in toRemoveTown):\n",
    "        toPrint = \"\"\n",
    "        for field in unitOriginal:\n",
    "            toPrint = \"%s%s,\" % (toPrint , field.__str__().strip()) #str(field).strip = field.__str__().strip\n",
    "        #print(toPrint)\n",
    "        overallAppend.append(toPrint)       \n",
    "print(len(overallAppend))    \n",
    "#Save as a new CSV file\n",
    "with open('Merged_unitsDetails_DistToMrt.csv','w') as f:\n",
    "    f.write(\"town,rmType,blk,unitNum,level,sqm,sellingPrice,Color,repurchasedFlat,Leaselessthan60yrs,street,probablecompletiondate,deliveryPossessiondate,leaseCommencementdate,availableEthnicQuotaMl,availableEthnicQuotaCh,availableEthnicQuotaIn,lastUpdate,NearestMrt,DistToMrt,blkX,blkY\\n\")\n",
    "    for item in overallAppend:\n",
    "        f.write(\"%s\\n\" % item)\n",
    "    \n",
    "    \n",
    "    \n",
    "    "
   ]
  },
  {
   "cell_type": "code",
   "execution_count": null,
   "metadata": {
    "collapsed": true
   },
   "outputs": [],
   "source": []
  },
  {
   "cell_type": "code",
   "execution_count": null,
   "metadata": {
    "collapsed": true
   },
   "outputs": [],
   "source": []
  },
  {
   "cell_type": "code",
   "execution_count": null,
   "metadata": {
    "collapsed": true
   },
   "outputs": [],
   "source": []
  },
  {
   "cell_type": "code",
   "execution_count": null,
   "metadata": {
    "collapsed": true
   },
   "outputs": [],
   "source": []
  }
 ],
 "metadata": {
  "kernelspec": {
   "display_name": "Python 3",
   "language": "python",
   "name": "python3"
  },
  "language_info": {
   "codemirror_mode": {
    "name": "ipython",
    "version": 3
   },
   "file_extension": ".py",
   "mimetype": "text/x-python",
   "name": "python",
   "nbconvert_exporter": "python",
   "pygments_lexer": "ipython3",
   "version": "3.6.1"
  }
 },
 "nbformat": 4,
 "nbformat_minor": 2
}
