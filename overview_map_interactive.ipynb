{
 "cells": [
  {
   "cell_type": "code",
   "execution_count": 2,
   "metadata": {},
   "outputs": [
    {
     "name": "stdout",
     "output_type": "stream",
     "text": [
      "Areas with HDB SBF Nov 18 (4/5Rm for Chinese)\n"
     ]
    },
    {
     "data": {
      "application/vnd.jupyter.widget-view+json": {
       "model_id": "4fdf9e9f96d847bd9515a52494288a9e",
       "version_major": 2,
       "version_minor": 0
      },
      "text/plain": [
       "Map(basemap={'url': 'https://{s}.tile.openstreetmap.org/{z}/{x}/{y}.png', 'max_zoom': 19, 'attribution': 'Map …"
      ]
     },
     "metadata": {},
     "output_type": "display_data"
    }
   ],
   "source": [
    "from ipyleaflet import Map, GeoJSON, Polygon, ImageOverlay, VideoOverlay, Popup, Marker\n",
    "from ipywidgets import HTML\n",
    "import os\n",
    "import parseJsonPlanningArea\n",
    "import parseUnitDetails\n",
    "#print(os.getcwd())\n",
    "print('Areas with HDB SBF Nov 18 (4/5Rm for Chinese)')\n",
    "\n",
    "# Load a local file\n",
    "# ori data src: data@gov\n",
    "# convert kml to geojson https://github.com/mrcagney/kml2geojson\n",
    "jsonFn = 'MP14_PLNG_AREA_NO_SEA_PL.json'\n",
    "jsonPlanningAreasSubset = parseJsonPlanningArea.getSubsetPlanningArea(jsonFn)\n",
    "jsonMeanCoordByTown     = parseJsonPlanningArea.getMeanCoordByTown(jsonPlanningAreasSubset)\n",
    "\n",
    "m = Map(\n",
    "    center=(1.353869, 103.817780), \n",
    "    zoom=11\n",
    ")\n",
    "#print('jsondata: ', data.keys())\n",
    "#print('jsondata: ', (jsonPlanningAreasSubset['features'][0])['properties']['name'])\n",
    "#print('jsondata: ', (jsonPlanningAreasSubset['features'][0].keys()))\n",
    "#print('jsondata: ', (jsonPlanningAreasSubset['features'][0]['geometry']['coordinates']))\n",
    "geo_json = GeoJSON(data=jsonPlanningAreasSubset)\n",
    "#print(geo_json)\n",
    "\n",
    "popupHtmlDictByTown = parseUnitDetails.genPopupTxtDictByTown()\n",
    "\n",
    "def planningArea_onClick(event, properties, id):\n",
    "    # guess and check the callback function args\n",
    "    #print('event: ', event)\n",
    "    #print('properties: ', properties)\n",
    "    #print('id: ', id)\n",
    "    town = properties['name'].title()\n",
    "    print('town: ', town)\n",
    "    meanCoord = jsonMeanCoordByTown[town.upper()]\n",
    "    print('meanCoord: ', meanCoord)\n",
    "    message1 = HTML()\n",
    "    #message1.value = \"Town: %s\" % (town,)\n",
    "    message1.value = popupHtmlDictByTown[town]\n",
    "\n",
    "\n",
    "    # Popup with a given location on the map:\n",
    "    popup = Popup(\n",
    "        location=meanCoord,\n",
    "        child=message1,\n",
    "        close_button=True,\n",
    "        auto_close=True,\n",
    "        close_on_escape_key=True,\n",
    "        auto_pan = True,\n",
    "        auto_pan_padding = (40,40),\n",
    "        keep_in_view = True,\n",
    "    )\n",
    "    m.add_layer(popup)\n",
    "\n",
    "\n",
    "\n",
    "geo_json.on_click(planningArea_onClick)\n",
    "m.add_layer(geo_json);\n",
    "\n",
    "\n",
    "#imgLayer = ImageOverlay(\n",
    "#    url=\"http://localhost:8889/files/datasandbox/hdb_sbf/iplyleaflet/townmap_amk_trans.png\",\n",
    "#    bounds=((1.346729, 103.829913), (1.396248, 103.865237))   #SW, NE\n",
    "#)\n",
    "#m.add_layer(imgLayer)\n",
    "\n",
    "\n",
    "popupCoord = (1.409588, 104.022521) #Tekong area\n",
    "\n",
    "\n",
    "\n",
    "\n",
    "popupMsg = HTML()\n",
    "popupMsg.value = \"Click on the highlighted areas to know more details about the SBF Nov 18 offering\"\n",
    "\n",
    "# Popup with a given location on the map:\n",
    "popupIntro = Popup(\n",
    "    location=popupCoord,\n",
    "    child=popupMsg,\n",
    "    close_button=True,\n",
    "    auto_close=True,\n",
    "    close_on_escape_key=True\n",
    ")\n",
    "m.add_layer(popupIntro)\n",
    "\n",
    "\n",
    "\n",
    "\n",
    "m"
   ]
  },
  {
   "cell_type": "code",
   "execution_count": null,
   "metadata": {
    "collapsed": true
   },
   "outputs": [],
   "source": []
  }
 ],
 "metadata": {
  "kernelspec": {
   "display_name": "Python 3",
   "language": "python",
   "name": "python3"
  },
  "language_info": {
   "codemirror_mode": {
    "name": "ipython",
    "version": 3
   },
   "file_extension": ".py",
   "mimetype": "text/x-python",
   "name": "python",
   "nbconvert_exporter": "python",
   "pygments_lexer": "ipython3",
   "version": "3.7.0"
  }
 },
 "nbformat": 4,
 "nbformat_minor": 2
}
